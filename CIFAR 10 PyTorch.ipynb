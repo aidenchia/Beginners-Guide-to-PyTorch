{
 "cells": [
  {
   "cell_type": "markdown",
   "metadata": {},
   "source": [
    "# Building a CNN classifier on CIFAR10 with PyTorch"
   ]
  },
  {
   "cell_type": "markdown",
   "metadata": {},
   "source": [
    "Welcome! This is my very first brush with PyTorch. I was reading through the PyTorch tutorials and I felt that they skipped over a lot of the explanations. That isn't really helpful for beginners. So I thought it would be good to do an __extremely documented__ version of the PyTorch tutorial. There are only minor changes to the code. I had so much fun and learnt so much just by doing this. Hope you will have fun too! :D"
   ]
  },
  {
   "cell_type": "markdown",
   "metadata": {},
   "source": [
    "Alright, first up. We need to import torch and torchvision. Torchvision is used when you want to load datasets such as MNIST, CIFAR10, etc. We also should import torchvision.transforms - this is a package that we can use to easily apply image transformations such as changing to a tensor, and normalizing, etc."
   ]
  },
  {
   "cell_type": "code",
   "execution_count": 1,
   "metadata": {},
   "outputs": [],
   "source": [
    "import torch \n",
    "import torchvision\n",
    "import torchvision.transforms as transforms"
   ]
  },
  {
   "cell_type": "markdown",
   "metadata": {},
   "source": [
    "We want to define a transform variable here because later on when we load the CIFAR10 dataset, we can simply specify the _transform_ parameter as transform. The transforms (note the 's') class has a method called Compose([trans1, trans2, trans3...]), which helps to chain image transformations together. \n",
    "\n",
    "The Normalize transformation takes two arguments: (mean, stdev). Here, mean is a tuple representing the mean values for each channel (R, G, B). It has a value of 0.5 because later on when we load CIFAR10 datasets via DataLoader, the output are PIL images of range(0,1). The same goes for stdev."
   ]
  },
  {
   "cell_type": "code",
   "execution_count": 3,
   "metadata": {},
   "outputs": [],
   "source": [
    "transform = transforms.Compose([transforms.ToTensor(), \n",
    "                                transforms.Normalize((0.5, 0.5, 0.5), (0.5, 0.5, 0.5))])"
   ]
  },
  {
   "cell_type": "markdown",
   "metadata": {},
   "source": [
    "As mentioned, we first directly get the data frrom torchvision's datasets, and we apply the transform that we defined earlier. We then create a DataLoader, which will help to subsample, shuffle, to return a batch with size = batch_size. We do the same for the test set as well."
   ]
  },
  {
   "cell_type": "code",
   "execution_count": 5,
   "metadata": {},
   "outputs": [
    {
     "name": "stdout",
     "output_type": "stream",
     "text": [
      "Files already downloaded and verified\n",
      "Files already downloaded and verified\n"
     ]
    }
   ],
   "source": [
    "trainset = torchvision.datasets.CIFAR10(root='./data', train=True, download=True, transform=transform)\n",
    "trainloader = torch.utils.data.DataLoader(trainset, batch_size=4, shuffle=True, num_workers=2)\n",
    "\n",
    "# To load the CIFAR10 test set, we simply need to set train = False\n",
    "testset = torchvision.datasets.CIFAR10(root='./data', train=False, download=True, transform=transform)\n",
    "testloader = torch.utils.data.DataLoader(testset, batch_size=4, shuffle=False, num_workers=2)\n",
    "\n",
    "\n",
    "classes = ('plane', 'car', 'bird', 'cat',\n",
    "           'deer', 'dog', 'frog', 'horse', 'ship', 'truck')"
   ]
  },
  {
   "cell_type": "markdown",
   "metadata": {},
   "source": [
    "Let's check the size of the training and test set."
   ]
  },
  {
   "cell_type": "code",
   "execution_count": 139,
   "metadata": {},
   "outputs": [
    {
     "name": "stdout",
     "output_type": "stream",
     "text": [
      "# of images in training set = 50000\n",
      "# of images in test set = 10000\n"
     ]
    }
   ],
   "source": [
    "print(\"# of images in training set =\", len(trainset))\n",
    "print(\"# of images in test set =\", len(testset))"
   ]
  },
  {
   "cell_type": "markdown",
   "metadata": {},
   "source": [
    "Now we want to see some of the images just for fun. First, let's see what we get from the trainloader."
   ]
  },
  {
   "cell_type": "code",
   "execution_count": 7,
   "metadata": {},
   "outputs": [
    {
     "name": "stdout",
     "output_type": "stream",
     "text": [
      "tensor([2, 6, 6, 2])\n"
     ]
    }
   ],
   "source": [
    "dataiter = iter(trainloader)\n",
    "images, labels = dataiter.next()\n",
    "#print(images, labels)\n",
    "print(labels)"
   ]
  },
  {
   "cell_type": "markdown",
   "metadata": {},
   "source": [
    "As you can see, trainloader actually returns the labels of the images in numbers. Hence, that is why we defined the classes object above - we can simply get the label of the class by indexing classes i.e. classes[labels]. If you un-comment the other print line, you will get 4 huge tensors corresponding to the 4 images loaded via the trainloader.\n",
    "\n",
    "Now that we've seen what trainloader returns, we can move on to actually plotting the images. But first, let's take a look at what this function torchvision.utils.make_grid actually returns."
   ]
  },
  {
   "cell_type": "code",
   "execution_count": 52,
   "metadata": {},
   "outputs": [
    {
     "name": "stdout",
     "output_type": "stream",
     "text": [
      "tensor([[[ 0.0000,  0.0000,  0.0000,  ...,  0.0000,  0.0000,  0.0000],\n",
      "         [ 0.0000,  0.0000,  0.0000,  ...,  0.0000,  0.0000,  0.0000],\n",
      "         [ 0.0000,  0.0000, -0.1608,  ..., -0.1294,  0.0000,  0.0000],\n",
      "         ...,\n",
      "         [ 0.0000,  0.0000, -0.0510,  ...,  0.6157,  0.0000,  0.0000],\n",
      "         [ 0.0000,  0.0000,  0.0000,  ...,  0.0000,  0.0000,  0.0000],\n",
      "         [ 0.0000,  0.0000,  0.0000,  ...,  0.0000,  0.0000,  0.0000]],\n",
      "\n",
      "        [[ 0.0000,  0.0000,  0.0000,  ...,  0.0000,  0.0000,  0.0000],\n",
      "         [ 0.0000,  0.0000,  0.0000,  ...,  0.0000,  0.0000,  0.0000],\n",
      "         [ 0.0000,  0.0000, -0.2392,  ..., -0.0824,  0.0000,  0.0000],\n",
      "         ...,\n",
      "         [ 0.0000,  0.0000, -0.1608,  ...,  0.5922,  0.0000,  0.0000],\n",
      "         [ 0.0000,  0.0000,  0.0000,  ...,  0.0000,  0.0000,  0.0000],\n",
      "         [ 0.0000,  0.0000,  0.0000,  ...,  0.0000,  0.0000,  0.0000]],\n",
      "\n",
      "        [[ 0.0000,  0.0000,  0.0000,  ...,  0.0000,  0.0000,  0.0000],\n",
      "         [ 0.0000,  0.0000,  0.0000,  ...,  0.0000,  0.0000,  0.0000],\n",
      "         [ 0.0000,  0.0000, -0.4039,  ..., -0.3882,  0.0000,  0.0000],\n",
      "         ...,\n",
      "         [ 0.0000,  0.0000, -0.3098,  ...,  0.1451,  0.0000,  0.0000],\n",
      "         [ 0.0000,  0.0000,  0.0000,  ...,  0.0000,  0.0000,  0.0000],\n",
      "         [ 0.0000,  0.0000,  0.0000,  ...,  0.0000,  0.0000,  0.0000]]])\n"
     ]
    }
   ],
   "source": [
    "print(torchvision.utils.make_grid(images))"
   ]
  },
  {
   "cell_type": "markdown",
   "metadata": {},
   "source": [
    "As you can see, what make_grid actually does is pretty interesting. It pads the tensor images with zeros so that it creates 'space' around each image when you want to plot them. This creates a \"grid\" without having to use subplotting in Matplotlib\n",
    "\n",
    "Alright. Now, we can finally move on to plotting of the images. However, there are 3 things to take note. Firstly, since Matplotlib works with Numpy arrays rather than PyTorch tensors, we will need to convert them. PyTorch makes this simple just by tensor.numpy(). Secondly, we need to un-normalize the tensors so that we get back the original image. Thirdly, the format in PyTorch is (channels, width, height), but in Matplotlib it is (width, height, channel). Hence, we will need to some transposing to re-order the axes.\n",
    "\n",
    "Let's define our own imshow function to plot the images returned to us via the make_grid function by doing all the necessary conversion steps before running Matplotlib's imshow command."
   ]
  },
  {
   "cell_type": "code",
   "execution_count": 51,
   "metadata": {},
   "outputs": [
    {
     "name": "stdout",
     "output_type": "stream",
     "text": [
      "     bird        frog        frog        bird   \n"
     ]
    },
    {
     "data": {
      "image/png": "[encoded data removed]",
      "text/plain": [
       "<Figure size 432x288 with 1 Axes>"
      ]
     },
     "metadata": {},
     "output_type": "display_data"
    }
   ],
   "source": [
    "import matplotlib.pyplot as plt\n",
    "import numpy as np\n",
    "\n",
    "def imshow(image):\n",
    "    image = image / 2 + 0.5\n",
    "    npimage = image.numpy()\n",
    "    plt.imshow(np.transpose(npimage, (1,2,0)))\n",
    "    \n",
    "imshow(torchvision.utils.make_grid(images))\n",
    "class_labels = \"\"\n",
    "for j in range(4):\n",
    "    class_labels += \"     \" + classes[labels[j]] + \"   \"\n",
    "    \n",
    "print(class_labels)"
   ]
  },
  {
   "cell_type": "markdown",
   "metadata": {},
   "source": [
    "Alright! We've done our data loading, pre-processsing, and visualisation, now it's time to move on to actually building the model. We will be using a Convolutional Neural Network (obviously).\n",
    "\n",
    "We will need to import torch.nn and torch.nn.functional. torch.nn is the package that has a class called Module. Modules is the super class for all neural network objects you create. So you should make your neural network object be a subclass of Module. torch.nn.functional is only imported because we want to use relu.\n",
    "\n",
    "So the logic of what we are going to do is to define a Net class (which is a subclass of Module), which will have an init method to define the layers in the neural network, and a forward method which describes one forward pass of a tensor through the neural network. It is in the forward method where the architecture of the NN is described."
   ]
  },
  {
   "cell_type": "code",
   "execution_count": 140,
   "metadata": {},
   "outputs": [],
   "source": [
    "import torch.nn as nn\n",
    "import torch.nn.functional as F\n",
    "\n",
    "class CNN(nn.Module):\n",
    "    def __init__(self):\n",
    "        super().__init__()\n",
    "        self.conv1 = nn.Conv2d(in_channels=3, out_channels=6, kernel_size=5, padding=0, stride=1)\n",
    "        self.pool = nn.MaxPool2d(kernel_size=2,stride=2)\n",
    "        self.conv2 = nn.Conv2d(in_channels=6, out_channels=16, kernel_size=5, padding=0, stride=1)\n",
    "        self.fc1 = nn.Linear(in_features=16*5*5,out_features=120)\n",
    "        self.fc2 = nn.Linear(in_features=120, out_features=84)\n",
    "        self.fc3 = nn.Linear(in_features = 84, out_features=10)\n",
    "        \n",
    "    def forward(self, x):\n",
    "        x = self.pool(F.relu(self.conv1(x)))\n",
    "        x = self.pool(F.relu(self.conv2(x)))\n",
    "        x = x.view(-1, 16 * 5 * 5)\n",
    "        x = F.relu(self.fc1(x))\n",
    "        x = F.relu(self.fc2(x))\n",
    "        x = self.fc3(x)\n",
    "        return x\n",
    "    \n",
    "net = CNN()"
   ]
  },
  {
   "cell_type": "markdown",
   "metadata": {},
   "source": [
    "So you might probably be thinking, what the hell is that super()... line doing? Well, in this case super() is a method defined in the standard Python library which helps you to access inherited parent methods which have been over-ridden by child methods. So, because we want to make use of the init method in nn.Module, but we also need to define our own init method in the child. Therefore, we use super() so that we can call the init parent method anyway. We need to call the init parent method because in the init parent method there are many things to initialize such as self.training = True, self.backend = thnn_backend, blah blah blah. So we don't need to write all that down by using super. If you're still confused about super, you can refer to the first example in this link, it's pretty clear: https://www.programiz.com/python-programming/methods/built-in/super"
   ]
  },
  {
   "cell_type": "markdown",
   "metadata": {},
   "source": [
    "CIFAR10 images are 32 x 32 x 3. The nasty thing about using PyTorch or Tensorflow or any other of the DL frameworks besides Keras is that we have to keep track of the size of the tensors as they flow though the neural network. Below is a function that allows us to see the output size after each layer. As you can see, the 5x5x16 output size at the end correlates with the argument passed into x.view. x.view is just meant to flatten the tensor so it can be passed to the fc layers."
   ]
  },
  {
   "cell_type": "code",
   "execution_count": 141,
   "metadata": {},
   "outputs": [
    {
     "name": "stdout",
     "output_type": "stream",
     "text": [
      "Conv1 output size = 28 x 28 x 6\n",
      "Pool output size = 14 x 14 x 6\n",
      "Conv2 output size = 10 x 10 x 16\n",
      "Pool output size = 5 x 5 x 16\n"
     ]
    }
   ],
   "source": [
    "def tensor_size_calculator(input_width, kernel_size, padding, stride):\n",
    "    output_width = int((input_width - kernel_size + 2 * padding)/stride) + 1\n",
    "    return output_width\n",
    "\n",
    "print(\"Conv1 output size = {} x {} x {}\".format(tensor_size_calculator(32,5,0,1), tensor_size_calculator(32,5,0,1), 6))\n",
    "print(\"Pool output size = {} x {} x {}\".format(tensor_size_calculator(28,2,0,2), tensor_size_calculator(28,2,0,2), 6))\n",
    "print(\"Conv2 output size = {} x {} x {}\".format(tensor_size_calculator(14,5,0,1), tensor_size_calculator(14,5,0,1), 16))\n",
    "print(\"Pool output size = {} x {} x {}\".format(tensor_size_calculator(10,2,0,2), tensor_size_calculator(10,2,0,2), 16))"
   ]
  },
  {
   "cell_type": "markdown",
   "metadata": {},
   "source": [
    "Great! So now that we have created our model instance, we can begin training the model. But first we want to train on GPU rather than CPU, so we create a device and pass \"cuda:0\" as the argument. This means we want to use the GPU with ID 0. We could have just as well passed \"cuda\" as the argument, and the default GPU would have been used.\n",
    "\n",
    "In PyTorch, if we want to use GPU, we need to ensure that we move all tensors, and models on to the GPU. That's why we use net.to(device). By right, these two lines of code should be written in the CNN class."
   ]
  },
  {
   "cell_type": "code",
   "execution_count": 142,
   "metadata": {},
   "outputs": [
    {
     "data": {
      "text/plain": [
       "CNN(\n",
       "  (conv1): Conv2d(3, 6, kernel_size=(5, 5), stride=(1, 1))\n",
       "  (pool): MaxPool2d(kernel_size=2, stride=2, padding=0, dilation=1, ceil_mode=False)\n",
       "  (conv2): Conv2d(6, 16, kernel_size=(5, 5), stride=(1, 1))\n",
       "  (fc1): Linear(in_features=400, out_features=120, bias=True)\n",
       "  (fc2): Linear(in_features=120, out_features=84, bias=True)\n",
       "  (fc3): Linear(in_features=84, out_features=10, bias=True)\n",
       ")"
      ]
     },
     "execution_count": 142,
     "metadata": {},
     "output_type": "execute_result"
    }
   ],
   "source": [
    "device = torch.device(\"cuda:0\")\n",
    "net.to(device)"
   ]
  },
  {
   "cell_type": "markdown",
   "metadata": {},
   "source": [
    "Next up we simply define our optimizer so it can be re-used easily later on. Note that this step must be done after we have moved the NN to cuda, because parameters before and after moving to cuda are different. Note that this step does _more than_ just initialize the optimizer - it also passes the parameters of the neural network to the optimizer so that it gets updated. In other words, you must always run this cell before you do any training, otherwise __the NN's parameters will not be updated__."
   ]
  },
  {
   "cell_type": "code",
   "execution_count": 143,
   "metadata": {},
   "outputs": [],
   "source": [
    "optimizer = torch.optim.SGD(net.parameters(), lr=0.001, momentum=0.9)"
   ]
  },
  {
   "cell_type": "markdown",
   "metadata": {},
   "source": [
    "Alright, let's train the model! In the train model_function, we need to do the following steps: load the images from the dataloader, pass the images through the neural network to get the output, find the categorical crossentropy loss wrt the ground truth labels, differentiate loss wrt weights, update the weights, and then zero out the gradients. The code below is documented with comments to tell where each line is doing each part. You might be wondering why we need to zero out the gradients - this is simply because of a quirk in PyTorch where they accummulate the gradients after every iteration (doing so is helpful in training RNNs). That's not what we want - we want only the gradient for that iteration to update the weights.\n",
    "\n",
    "Similarly for the running loss, we also need to zero it out after every mini-batch is completed, otherwise we would be reporting the accummulated running loss rather than the (average) loss for that mini-batch. Oh and, we update running_loss by adding itself to loss.item(). This .item() is a numpy method which simply just returns a scalar value from an ndarray.\n",
    "\n",
    "Note that for each iteration, because we defined the batch size to be 4 in the data loader, _images_ is actually a tensor made up of 4 images."
   ]
  },
  {
   "cell_type": "code",
   "execution_count": 144,
   "metadata": {},
   "outputs": [],
   "source": [
    "def train_model(num_epochs, batch_size):    \n",
    "    for j, epoch in enumerate(range(num_epochs), 1):\n",
    "        print (\"Epoch {} ----------------------------->\".format(j)) # just some fancy aesthetics\n",
    "        running_loss = 0.0 # when you start a new epoch, reset running_loss\n",
    "        for i, data in enumerate(trainloader, 1):\n",
    "            images, labels = data\n",
    "            images, labels = images.to(device), labels.to(device)\n",
    "\n",
    "            # Pass images through one forward pass of the neural network\n",
    "            outputs = net(images)\n",
    "            # zero out the gradients since it accummulates\n",
    "            optimizer.zero_grad()\n",
    "            # Calculate the cross entropy loss of outputs\n",
    "            loss = nn.CrossEntropyLoss()(outputs, labels)\n",
    "            # Differentiate loss wrt weights\n",
    "            loss.backward()\n",
    "            # update the weights i.e. weights -= learning rate * gradients\n",
    "            optimizer.step()\n",
    "            # Print some statistics\n",
    "            running_loss += loss.item()\n",
    "            if i % BATCH_SIZE == 0:\n",
    "                print (\"Batch {} | Loss = {:.3f}\".format(i//batch_size, running_loss/batch_size))\n",
    "                running_loss = 0.0\n",
    "\n",
    "    return \"Finished Training\""
   ]
  },
  {
   "cell_type": "code",
   "execution_count": 145,
   "metadata": {},
   "outputs": [
    {
     "name": "stdout",
     "output_type": "stream",
     "text": [
      "Epoch 1 ----------------------------->\n",
      "Batch 1 | Loss = 2.198\n",
      "Batch 2 | Loss = 1.795\n",
      "Batch 3 | Loss = 1.599\n",
      "Batch 4 | Loss = 1.538\n",
      "Batch 5 | Loss = 1.465\n",
      "Epoch 2 ----------------------------->\n",
      "Batch 1 | Loss = 1.400\n",
      "Batch 2 | Loss = 1.337\n",
      "Batch 3 | Loss = 1.319\n",
      "Batch 4 | Loss = 1.289\n",
      "Batch 5 | Loss = 1.270\n",
      "Epoch 3 ----------------------------->\n",
      "Batch 1 | Loss = 1.206\n",
      "Batch 2 | Loss = 1.200\n",
      "Batch 3 | Loss = 1.182\n",
      "Batch 4 | Loss = 1.160\n",
      "Batch 5 | Loss = 1.158\n",
      "Epoch 4 ----------------------------->\n",
      "Batch 1 | Loss = 1.077\n",
      "Batch 2 | Loss = 1.104\n",
      "Batch 3 | Loss = 1.100\n",
      "Batch 4 | Loss = 1.099\n",
      "Batch 5 | Loss = 1.075\n",
      "Epoch 5 ----------------------------->\n",
      "Batch 1 | Loss = 1.004\n",
      "Batch 2 | Loss = 1.021\n",
      "Batch 3 | Loss = 1.022\n",
      "Batch 4 | Loss = 1.029\n",
      "Batch 5 | Loss = 1.026\n"
     ]
    },
    {
     "data": {
      "text/plain": [
       "'Finished Training'"
      ]
     },
     "execution_count": 145,
     "metadata": {},
     "output_type": "execute_result"
    }
   ],
   "source": [
    "NUM_EPOCHS = 5 \n",
    "BATCH_SIZE = 2500\n",
    "train_model(NUM_EPOCHS, BATCH_SIZE)"
   ]
  },
  {
   "cell_type": "markdown",
   "metadata": {},
   "source": [
    "It shouldn't be surprising that we get 5 batches per epoch. After all, our training set is 50,000 images, and we specified that each set of images that gets loaded by the DataLoader at each iteration will be in sets of 4. There are 12,500 sets of 4 images in our training set, and with a batch size of 2,500 we divide the 12,500 sets exactly by 5."
   ]
  },
  {
   "cell_type": "code",
   "execution_count": 130,
   "metadata": {},
   "outputs": [
    {
     "name": "stdout",
     "output_type": "stream",
     "text": [
      "torch.Size([4, 10])\n"
     ]
    }
   ],
   "source": [
    "dataiter = iter(testloader)\n",
    "images, labels = dataiter.next()\n",
    "outputs = net(images.to(device))\n",
    "print(outputs.size())"
   ]
  },
  {
   "cell_type": "markdown",
   "metadata": {},
   "source": [
    "So the output is as we expect. Each image passed into the model is output as a 10-length vector, with each element representing the probability for each class. \n",
    "\n",
    "Take a look at the cell below. When we pass outputs into torch.max(), it automatically returns two tensors, the first tensor are the actual max probability values, while the second tensor are the class labels. Later on when we want to see the predictions made my the model, we can simply use the second tensor to index _classes_"
   ]
  },
  {
   "cell_type": "code",
   "execution_count": 131,
   "metadata": {},
   "outputs": [
    {
     "name": "stdout",
     "output_type": "stream",
     "text": [
      "(tensor([1.7345, 9.6868, 3.4898, 4.5370], device='cuda:0', grad_fn=<MaxBackward0>), tensor([3, 8, 8, 8], device='cuda:0'))\n"
     ]
    }
   ],
   "source": [
    "print(torch.max(outputs, dim=1))"
   ]
  },
  {
   "cell_type": "code",
   "execution_count": 132,
   "metadata": {},
   "outputs": [
    {
     "name": "stdout",
     "output_type": "stream",
     "text": [
      "     cat        ship        ship        ship   \n"
     ]
    },
    {
     "data": {
      "image/png": "[encoded data removed]",
      "text/plain": [
       "<Figure size 432x288 with 1 Axes>"
      ]
     },
     "metadata": {},
     "output_type": "display_data"
    }
   ],
   "source": [
    "_, prediction = torch.max(outputs,dim=1)\n",
    "predictions = \"\"\n",
    "for p in range(4):\n",
    "    predictions += \"     \" + classes[prediction[p]] + \"   \"\n",
    "print(predictions)\n",
    "imshow(torchvision.utils.make_grid(images))"
   ]
  },
  {
   "cell_type": "markdown",
   "metadata": {},
   "source": [
    "Not bad! It was able to correctly identify the cat and the ships, but it didn't identify the plane correctly.\n",
    "\n",
    "Alright, now let's evaluate the model. The next few lines of code should be reasonably easy to understand. Just a few things - when evaluating a model, we don't need to use up memory to keep track of the gradients, hence we use with torch.no_grad() to achieve this.\n",
    "\n",
    "Secondly, don't be confused about outputs.data in line 8 - the only difference between outputs and outputs.data is that outputs.data doesn't store the function that was used to create it (refer below). Using outputs in this case would have worked as well, albeit a little slower (or perhaps with more memory used). "
   ]
  },
  {
   "cell_type": "code",
   "execution_count": 136,
   "metadata": {},
   "outputs": [
    {
     "name": "stdout",
     "output_type": "stream",
     "text": [
      "Accuracy of the network on 10,000 test images: 61 %\n"
     ]
    }
   ],
   "source": [
    "correct = 0\n",
    "total = 0\n",
    "with torch.no_grad():\n",
    "    for data in testloader:\n",
    "        images, labels = data\n",
    "        images, labels = images.to(device), labels.to(device)\n",
    "        outputs = net(images)\n",
    "        _, predicted = torch.max(outputs.data, 1)\n",
    "        total += labels.size(0) # 4 + 4 + 4 + ....\n",
    "        correct += (predicted == labels).sum().item()\n",
    "        \n",
    "print('Accuracy of the network on 10,000 test images: %d %%' %(correct*100/total))"
   ]
  },
  {
   "cell_type": "code",
   "execution_count": 135,
   "metadata": {},
   "outputs": [
    {
     "name": "stdout",
     "output_type": "stream",
     "text": [
      "tensor([[-0.3151, -1.0076,  0.4473,  1.7345, -1.5261,  0.1395,  1.0854, -2.7348,\n",
      "          1.6600, -0.9724],\n",
      "        [ 5.6639,  6.8265, -2.7914, -3.2155, -3.0998, -6.8968, -3.3692, -6.0523,\n",
      "          9.6868,  3.4894],\n",
      "        [ 2.3984,  2.1962, -0.9199, -1.8278, -1.3179, -3.5441, -2.7176, -2.6169,\n",
      "          3.4898,  2.7895],\n",
      "        [ 4.3817,  1.2596, -0.2201, -2.4330, -0.8555, -3.8689, -2.5782, -3.0362,\n",
      "          4.5370,  0.7805]], device='cuda:0')\n",
      "tensor([[-0.3151, -1.0076,  0.4473,  1.7345, -1.5261,  0.1395,  1.0854, -2.7348,\n",
      "          1.6600, -0.9724],\n",
      "        [ 5.6639,  6.8265, -2.7914, -3.2155, -3.0998, -6.8968, -3.3692, -6.0523,\n",
      "          9.6868,  3.4894],\n",
      "        [ 2.3984,  2.1962, -0.9199, -1.8278, -1.3179, -3.5441, -2.7176, -2.6169,\n",
      "          3.4898,  2.7895],\n",
      "        [ 4.3817,  1.2596, -0.2201, -2.4330, -0.8555, -3.8689, -2.5782, -3.0362,\n",
      "          4.5370,  0.7805]], device='cuda:0', grad_fn=<ThAddmmBackward>)\n"
     ]
    }
   ],
   "source": [
    "print(outputs.data)\n",
    "print(outputs)"
   ]
  },
  {
   "cell_type": "markdown",
   "metadata": {},
   "source": [
    "Alright!! There we go. We've just trained our first model in PyTorch. It's accuracy isn't that high, but remember that we've only trained it over 5 epochs and we haven't done much pre-processing and hyperparameter tuning. \n",
    "\n",
    "Anyway, Congratulations!!"
   ]
  },
  {
   "cell_type": "code",
   "execution_count": null,
   "metadata": {},
   "outputs": [],
   "source": []
  },
  {
   "cell_type": "code",
   "execution_count": null,
   "metadata": {},
   "outputs": [],
   "source": []
  }
 ],
 "metadata": {
  "kernelspec": {
   "display_name": "Python 3",
   "language": "python",
   "name": "python3"
  },
  "language_info": {
   "codemirror_mode": {
    "name": "ipython",
    "version": 3
   },
   "file_extension": ".py",
   "mimetype": "text/x-python",
   "name": "python",
   "nbconvert_exporter": "python",
   "pygments_lexer": "ipython3",
   "version": "3.6.6"
  }
 },
 "nbformat": 4,
 "nbformat_minor": 2
}
